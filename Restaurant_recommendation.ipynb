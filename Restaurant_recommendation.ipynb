{
  "nbformat": 4,
  "nbformat_minor": 0,
  "metadata": {
    "colab": {
      "name": "Restaurant recommendation",
      "provenance": [],
      "collapsed_sections": [],
      "mount_file_id": "17oDPkQnK2JQ9xthizuda8BiCUMm_tQhV",
      "authorship_tag": "ABX9TyN62qb//5V7EuLHSZixjIIQ",
      "include_colab_link": true
    },
    "kernelspec": {
      "name": "python3",
      "display_name": "Python 3"
    }
  },
  "cells": [
    {
      "cell_type": "markdown",
      "metadata": {
        "id": "view-in-github",
        "colab_type": "text"
      },
      "source": [
        "<a href=\"https://colab.research.google.com/github/sujikathir/Restaurant-Recommendation/blob/main/Restaurant_recommendation.ipynb\" target=\"_parent\"><img src=\"https://colab.research.google.com/assets/colab-badge.svg\" alt=\"Open In Colab\"/></a>"
      ]
    },
    {
      "cell_type": "markdown",
      "metadata": {
        "id": "VvACTKFugzFC"
      },
      "source": [
        "##Machine Learning Project on Restaurant Recommendation System with Python\r\n",
        "\r\n"
      ]
    },
    {
      "cell_type": "code",
      "metadata": {
        "id": "zZyixkp7c9L7"
      },
      "source": [
        "#Importing the necessary Python Libraries:\r\n",
        "import numpy as np\r\n",
        "import pandas as pd\r\n",
        "import seaborn as sb\r\n",
        "import matplotlib.pyplot as plt\r\n",
        "import seaborn as sns\r\n",
        "from sklearn.linear_model import LogisticRegression\r\n",
        "from sklearn.linear_model import LinearRegression\r\n",
        "from sklearn.model_selection import train_test_split\r\n",
        "from sklearn.metrics import classification_report\r\n",
        "from sklearn.metrics import confusion_matrix\r\n",
        "from sklearn.metrics import r2_score\r\n",
        "import warnings\r\n",
        "warnings.filterwarnings('always')\r\n",
        "warnings.filterwarnings('ignore')\r\n",
        "import re\r\n",
        "from nltk.corpus import stopwords\r\n",
        "from sklearn.metrics.pairwise import linear_kernel\r\n",
        "from sklearn.feature_extraction.text import CountVectorizer\r\n",
        "from sklearn.feature_extraction.text import TfidfVectorizer"
      ],
      "execution_count": 11,
      "outputs": []
    },
    {
      "cell_type": "code",
      "metadata": {
        "colab": {
          "base_uri": "https://localhost:8080/",
          "height": 603
        },
        "id": "gUSIVNd2d76J",
        "outputId": "d48db13b-bef8-4cd1-e416-d3249b53bc80"
      },
      "source": [
        "#Load and read the dataset:\r\n",
        "zomato_real=pd.read_csv(\"/content/drive/MyDrive/zomato.csv\")\r\n",
        "zomato_real.head() # prints the first 5 rows of the dataset"
      ],
      "execution_count": 13,
      "outputs": [
        {
          "output_type": "execute_result",
          "data": {
            "text/html": [
              "<div>\n",
              "<style scoped>\n",
              "    .dataframe tbody tr th:only-of-type {\n",
              "        vertical-align: middle;\n",
              "    }\n",
              "\n",
              "    .dataframe tbody tr th {\n",
              "        vertical-align: top;\n",
              "    }\n",
              "\n",
              "    .dataframe thead th {\n",
              "        text-align: right;\n",
              "    }\n",
              "</style>\n",
              "<table border=\"1\" class=\"dataframe\">\n",
              "  <thead>\n",
              "    <tr style=\"text-align: right;\">\n",
              "      <th></th>\n",
              "      <th>url</th>\n",
              "      <th>address</th>\n",
              "      <th>name</th>\n",
              "      <th>online_order</th>\n",
              "      <th>book_table</th>\n",
              "      <th>rate</th>\n",
              "      <th>votes</th>\n",
              "      <th>phone</th>\n",
              "      <th>location</th>\n",
              "      <th>rest_type</th>\n",
              "      <th>dish_liked</th>\n",
              "      <th>cuisines</th>\n",
              "      <th>approx_cost(for two people)</th>\n",
              "      <th>reviews_list</th>\n",
              "      <th>menu_item</th>\n",
              "      <th>listed_in(type)</th>\n",
              "      <th>listed_in(city)</th>\n",
              "    </tr>\n",
              "  </thead>\n",
              "  <tbody>\n",
              "    <tr>\n",
              "      <th>0</th>\n",
              "      <td>https://www.zomato.com/bangalore/jalsa-banasha...</td>\n",
              "      <td>942, 21st Main Road, 2nd Stage, Banashankari, ...</td>\n",
              "      <td>Jalsa</td>\n",
              "      <td>Yes</td>\n",
              "      <td>Yes</td>\n",
              "      <td>4.1/5</td>\n",
              "      <td>775</td>\n",
              "      <td>080 42297555\\r\\n+91 9743772233</td>\n",
              "      <td>Banashankari</td>\n",
              "      <td>Casual Dining</td>\n",
              "      <td>Pasta, Lunch Buffet, Masala Papad, Paneer Laja...</td>\n",
              "      <td>North Indian, Mughlai, Chinese</td>\n",
              "      <td>800</td>\n",
              "      <td>[('Rated 4.0', 'RATED\\n  A beautiful place to ...</td>\n",
              "      <td>[]</td>\n",
              "      <td>Buffet</td>\n",
              "      <td>Banashankari</td>\n",
              "    </tr>\n",
              "    <tr>\n",
              "      <th>1</th>\n",
              "      <td>https://www.zomato.com/bangalore/spice-elephan...</td>\n",
              "      <td>2nd Floor, 80 Feet Road, Near Big Bazaar, 6th ...</td>\n",
              "      <td>Spice Elephant</td>\n",
              "      <td>Yes</td>\n",
              "      <td>No</td>\n",
              "      <td>4.1/5</td>\n",
              "      <td>787</td>\n",
              "      <td>080 41714161</td>\n",
              "      <td>Banashankari</td>\n",
              "      <td>Casual Dining</td>\n",
              "      <td>Momos, Lunch Buffet, Chocolate Nirvana, Thai G...</td>\n",
              "      <td>Chinese, North Indian, Thai</td>\n",
              "      <td>800</td>\n",
              "      <td>[('Rated 4.0', 'RATED\\n  Had been here for din...</td>\n",
              "      <td>[]</td>\n",
              "      <td>Buffet</td>\n",
              "      <td>Banashankari</td>\n",
              "    </tr>\n",
              "    <tr>\n",
              "      <th>2</th>\n",
              "      <td>https://www.zomato.com/SanchurroBangalore?cont...</td>\n",
              "      <td>1112, Next to KIMS Medical College, 17th Cross...</td>\n",
              "      <td>San Churro Cafe</td>\n",
              "      <td>Yes</td>\n",
              "      <td>No</td>\n",
              "      <td>3.8/5</td>\n",
              "      <td>918</td>\n",
              "      <td>+91 9663487993</td>\n",
              "      <td>Banashankari</td>\n",
              "      <td>Cafe, Casual Dining</td>\n",
              "      <td>Churros, Cannelloni, Minestrone Soup, Hot Choc...</td>\n",
              "      <td>Cafe, Mexican, Italian</td>\n",
              "      <td>800</td>\n",
              "      <td>[('Rated 3.0', \"RATED\\n  Ambience is not that ...</td>\n",
              "      <td>[]</td>\n",
              "      <td>Buffet</td>\n",
              "      <td>Banashankari</td>\n",
              "    </tr>\n",
              "    <tr>\n",
              "      <th>3</th>\n",
              "      <td>https://www.zomato.com/bangalore/addhuri-udupi...</td>\n",
              "      <td>1st Floor, Annakuteera, 3rd Stage, Banashankar...</td>\n",
              "      <td>Addhuri Udupi Bhojana</td>\n",
              "      <td>No</td>\n",
              "      <td>No</td>\n",
              "      <td>3.7/5</td>\n",
              "      <td>88</td>\n",
              "      <td>+91 9620009302</td>\n",
              "      <td>Banashankari</td>\n",
              "      <td>Quick Bites</td>\n",
              "      <td>Masala Dosa</td>\n",
              "      <td>South Indian, North Indian</td>\n",
              "      <td>300</td>\n",
              "      <td>[('Rated 4.0', \"RATED\\n  Great food and proper...</td>\n",
              "      <td>[]</td>\n",
              "      <td>Buffet</td>\n",
              "      <td>Banashankari</td>\n",
              "    </tr>\n",
              "    <tr>\n",
              "      <th>4</th>\n",
              "      <td>https://www.zomato.com/bangalore/grand-village...</td>\n",
              "      <td>10, 3rd Floor, Lakshmi Associates, Gandhi Baza...</td>\n",
              "      <td>Grand Village</td>\n",
              "      <td>No</td>\n",
              "      <td>No</td>\n",
              "      <td>3.8/5</td>\n",
              "      <td>166</td>\n",
              "      <td>+91 8026612447\\r\\n+91 9901210005</td>\n",
              "      <td>Basavanagudi</td>\n",
              "      <td>Casual Dining</td>\n",
              "      <td>Panipuri, Gol Gappe</td>\n",
              "      <td>North Indian, Rajasthani</td>\n",
              "      <td>600</td>\n",
              "      <td>[('Rated 4.0', 'RATED\\n  Very good restaurant ...</td>\n",
              "      <td>[]</td>\n",
              "      <td>Buffet</td>\n",
              "      <td>Banashankari</td>\n",
              "    </tr>\n",
              "  </tbody>\n",
              "</table>\n",
              "</div>"
            ],
            "text/plain": [
              "                                                 url  ... listed_in(city)\n",
              "0  https://www.zomato.com/bangalore/jalsa-banasha...  ...    Banashankari\n",
              "1  https://www.zomato.com/bangalore/spice-elephan...  ...    Banashankari\n",
              "2  https://www.zomato.com/SanchurroBangalore?cont...  ...    Banashankari\n",
              "3  https://www.zomato.com/bangalore/addhuri-udupi...  ...    Banashankari\n",
              "4  https://www.zomato.com/bangalore/grand-village...  ...    Banashankari\n",
              "\n",
              "[5 rows x 17 columns]"
            ]
          },
          "metadata": {
            "tags": []
          },
          "execution_count": 13
        }
      ]
    },
    {
      "cell_type": "markdown",
      "metadata": {
        "id": "FGsLQGdygehi"
      },
      "source": [
        "##Data cleaning and Feature engineering\r\n",
        "\r\n",
        "1.   Deleting Unnecessary Columns\r\n",
        "2.   Removing the Duplicates\r\n",
        "3.   Remove the NaN values from the dataset\r\n",
        "4.   Changing the column names\r\n",
        "5.   Data Transformations\r\n",
        "6.   Data Cleaning\r\n",
        "7.   Adjust the column names\r\n",
        "\r\n",
        "\r\n"
      ]
    },
    {
      "cell_type": "code",
      "metadata": {
        "id": "HuqJkDIL0gVG"
      },
      "source": [
        "import matplotlib.pyplot as plt\r\n",
        "import seaborn as sns\r\n",
        "%matplotlib inline\r\n",
        "\r\n",
        "def missing_values(data, thresh = 20, color = 'black', edgecolor = 'black', height = 3, width = 15):\r\n",
        "    \r\n",
        "    plt.figure(figsize = (width, height))\r\n",
        "    percentage = (data.isnull().mean()) * 100\r\n",
        "    percentage.sort_values(ascending = False).plot.bar(color = color, edgecolor = edgecolor)\r\n",
        "    plt.axhline(y = thresh, color = 'r', linestyle = '-')\r\n",
        "    \r\n",
        "    plt.title('Missing values percentage per column', fontsize = 20, weight = 'bold' )\r\n",
        "    \r\n",
        "    plt.text(len(data.isnull().sum()/len(data))/1.7, thresh + 12.5, f'Columns with more than {thresh}% missing values', fontsize = 12, color = 'crimson',\r\n",
        "         ha = 'left' ,va = 'top')\r\n",
        "    plt.text(len(data.isnull().sum()/len(data))/1.7, thresh - 5, f'Columns with less than {thresh}% missing values', fontsize=12, color='green',\r\n",
        "         ha = 'left' ,va = 'top')\r\n",
        "    plt.xlabel('Columns', size = 15, weight = 'bold')\r\n",
        "    plt.ylabel('Missing values percentage')\r\n",
        "    plt.yticks(weight = 'bold')\r\n",
        "    \r\n",
        "    return plt.show()"
      ],
      "execution_count": 25,
      "outputs": []
    },
    {
      "cell_type": "code",
      "metadata": {
        "colab": {
          "base_uri": "https://localhost:8080/",
          "height": 380
        },
        "id": "WZGeyrHk0oEj",
        "outputId": "e5e109e9-c83a-443e-af4c-4d4a675e7b88"
      },
      "source": [
        "missing_values(zomato_real, thresh = 20, color = sns.color_palette('Reds',15))"
      ],
      "execution_count": 27,
      "outputs": [
        {
          "output_type": "display_data",
          "data": {
            "image/png": "[encoded data removed]",
            "text/plain": [
              "<Figure size 1080x216 with 1 Axes>"
            ]
          },
          "metadata": {
            "tags": [],
            "needs_background": "light"
          }
        }
      ]
    },
    {
      "cell_type": "code",
      "metadata": {
        "id": "1H16SZ_-feMt"
      },
      "source": [
        "#Deleting Unnnecessary Columns\r\n",
        "zomato=zomato_real.drop(['url','dish_liked','phone'],axis=1) #Dropping the column \"dish_liked\", \"phone\", \"url\" and saving the new dataset as \"zomato\"\r\n"
      ],
      "execution_count": 3,
      "outputs": []
    },
    {
      "cell_type": "code",
      "metadata": {
        "id": "3GYI88_RfxzP"
      },
      "source": [
        "#Removing the Duplicates\r\n",
        "zomato.duplicated().sum()\r\n",
        "zomato.drop_duplicates(inplace=True)"
      ],
      "execution_count": 4,
      "outputs": []
    },
    {
      "cell_type": "code",
      "metadata": {
        "id": "eyphQVeUf0NZ"
      },
      "source": [
        "#Remove the NaN values from the dataset\r\n",
        "zomato.isnull().sum()\r\n",
        "zomato.dropna(how='any',inplace=True)\r\n"
      ],
      "execution_count": 5,
      "outputs": []
    },
    {
      "cell_type": "code",
      "metadata": {
        "id": "15Hyxk8nf39O"
      },
      "source": [
        "#Changing the column names\r\n",
        "zomato = zomato.rename(columns={'approx_cost(for two people)':'cost','listed_in(type)':'type', 'listed_in(city)':'city'})"
      ],
      "execution_count": 6,
      "outputs": []
    },
    {
      "cell_type": "code",
      "metadata": {
        "id": "mErsE9prf6z0"
      },
      "source": [
        "#Some Transformations\r\n",
        "zomato['cost'] = zomato['cost'].astype(str) #Changing the cost to string\r\n",
        "zomato['cost'] = zomato['cost'].apply(lambda x: x.replace(',','.')) #Using lambda function to replace ',' from cost\r\n",
        "zomato['cost'] = zomato['cost'].astype(float)\r\n",
        "#Removing '/5' from Rates\r\n",
        "zomato = zomato.loc[zomato.rate !='NEW']\r\n",
        "zomato = zomato.loc[zomato.rate !='-'].reset_index(drop=True)\r\n",
        "remove_slash = lambda x: x.replace('/5', '') if type(x) == np.str else x\r\n",
        "zomato.rate = zomato.rate.apply(remove_slash).str.strip().astype('float')"
      ],
      "execution_count": 7,
      "outputs": []
    },
    {
      "cell_type": "code",
      "metadata": {
        "id": "klGiW82pf97Z"
      },
      "source": [
        "# Adjust the column names\r\n",
        "zomato.name = zomato.name.apply(lambda x:x.title())\r\n",
        "zomato.online_order.replace(('Yes','No'),(True, False),inplace=True)\r\n",
        "zomato.book_table.replace(('Yes','No'),(True, False),inplace=True)"
      ],
      "execution_count": 8,
      "outputs": []
    },
    {
      "cell_type": "code",
      "metadata": {
        "id": "W1Ck26NrgAtv"
      },
      "source": [
        "## Computing Mean Rating\r\n",
        "restaurants = list(zomato['name'].unique())\r\n",
        "zomato['Mean Rating'] = 0\r\n",
        "\r\n",
        "for i in range(len(restaurants)):\r\n",
        "    zomato['Mean Rating'][zomato['name'] == restaurants[i]] = zomato['rate'][zomato['name'] == restaurants[i]].mean()\r\n",
        "    \r\n",
        "from sklearn.preprocessing import MinMaxScaler\r\n",
        "scaler = MinMaxScaler(feature_range = (1,5))\r\n",
        "zomato[['Mean Rating']] = scaler.fit_transform(zomato[['Mean Rating']]).round(2)"
      ],
      "execution_count": 9,
      "outputs": []
    },
    {
      "cell_type": "markdown",
      "metadata": {
        "id": "YkjkbZ7j43ll"
      },
      "source": [
        "##Correlation between various factors with the rating"
      ]
    },
    {
      "cell_type": "markdown",
      "metadata": {
        "id": "PSrN9CCx184X"
      },
      "source": [
        "Plot to see which kind of restaurants can have the highest number of outlets. Most probably some coffe chain, or ice-cream chain or sweet shop or famous pizza chain like Dominos or Pizza Hut will be having the maximum number of outlets."
      ]
    },
    {
      "cell_type": "code",
      "metadata": {
        "colab": {
          "base_uri": "https://localhost:8080/",
          "height": 475
        },
        "id": "f405oc7D1YKO",
        "outputId": "b2219d40-ad51-40b4-b5e5-8312d5d0db2c"
      },
      "source": [
        "plt.figure(figsize = (6, 6))\r\n",
        "zomato_real['name'].value_counts().head(10)\r\n",
        "index = zomato_real['name'].value_counts().head(10).index\r\n",
        "values = zomato_real['name'].value_counts().head(10).values\r\n",
        "g = sns.barplot(x = index, y = values, data = zomato_real)\r\n",
        "g.set_xticklabels(labels = index, rotation = 90)\r\n",
        "g"
      ],
      "execution_count": 31,
      "outputs": [
        {
          "output_type": "execute_result",
          "data": {
            "text/plain": [
              "<matplotlib.axes._subplots.AxesSubplot at 0x7f1a64bc0908>"
            ]
          },
          "metadata": {
            "tags": []
          },
          "execution_count": 31
        },
        {
          "output_type": "display_data",
          "data": {
            "image/png": "[encoded data removed]",
            "text/plain": [
              "<Figure size 432x432 with 1 Axes>"
            ]
          },
          "metadata": {
            "tags": [],
            "needs_background": "light"
          }
        }
      ]
    },
    {
      "cell_type": "markdown",
      "metadata": {
        "id": "xjdOJzvL2KGV"
      },
      "source": [
        "Cafe Coffee Day(a coffee chain) had the maximum number of outlets. Sweet shops like Kanti sweet or pizza chains like Pizza Hut also have a lot of outlets across the city.\r\n",
        "\r\n",
        "But having a large number of outlets does not gurantee a higher rating."
      ]
    },
    {
      "cell_type": "code",
      "metadata": {
        "colab": {
          "base_uri": "https://localhost:8080/",
          "height": 539
        },
        "id": "o0-O-ax61rOc",
        "outputId": "4b0ff4fa-5224-4d33-d095-2c5bb8f559ee"
      },
      "source": [
        "zomato_real.groupby('name')['votes', 'rate'].max().sort_values(ascending = False, by = 'votes').head(15)"
      ],
      "execution_count": 32,
      "outputs": [
        {
          "output_type": "execute_result",
          "data": {
            "text/html": [
              "<div>\n",
              "<style scoped>\n",
              "    .dataframe tbody tr th:only-of-type {\n",
              "        vertical-align: middle;\n",
              "    }\n",
              "\n",
              "    .dataframe tbody tr th {\n",
              "        vertical-align: top;\n",
              "    }\n",
              "\n",
              "    .dataframe thead th {\n",
              "        text-align: right;\n",
              "    }\n",
              "</style>\n",
              "<table border=\"1\" class=\"dataframe\">\n",
              "  <thead>\n",
              "    <tr style=\"text-align: right;\">\n",
              "      <th></th>\n",
              "      <th>votes</th>\n",
              "    </tr>\n",
              "    <tr>\n",
              "      <th>name</th>\n",
              "      <th></th>\n",
              "    </tr>\n",
              "  </thead>\n",
              "  <tbody>\n",
              "    <tr>\n",
              "      <th>Byg Brewski Brewing Company</th>\n",
              "      <td>16832</td>\n",
              "    </tr>\n",
              "    <tr>\n",
              "      <th>Toit</th>\n",
              "      <td>14956</td>\n",
              "    </tr>\n",
              "    <tr>\n",
              "      <th>Truffles</th>\n",
              "      <td>14726</td>\n",
              "    </tr>\n",
              "    <tr>\n",
              "      <th>AB's - Absolute Barbecues</th>\n",
              "      <td>12121</td>\n",
              "    </tr>\n",
              "    <tr>\n",
              "      <th>The Black Pearl</th>\n",
              "      <td>10550</td>\n",
              "    </tr>\n",
              "    <tr>\n",
              "      <th>Big Pitcher</th>\n",
              "      <td>9300</td>\n",
              "    </tr>\n",
              "    <tr>\n",
              "      <th>Onesta</th>\n",
              "      <td>9085</td>\n",
              "    </tr>\n",
              "    <tr>\n",
              "      <th>Arbor Brewing Company</th>\n",
              "      <td>8419</td>\n",
              "    </tr>\n",
              "    <tr>\n",
              "      <th>Empire Restaurant</th>\n",
              "      <td>8304</td>\n",
              "    </tr>\n",
              "    <tr>\n",
              "      <th>Prost Brew Pub</th>\n",
              "      <td>7871</td>\n",
              "    </tr>\n",
              "    <tr>\n",
              "      <th>Church Street Social</th>\n",
              "      <td>7584</td>\n",
              "    </tr>\n",
              "    <tr>\n",
              "      <th>Hoot</th>\n",
              "      <td>7330</td>\n",
              "    </tr>\n",
              "    <tr>\n",
              "      <th>Barbeque Nation</th>\n",
              "      <td>7270</td>\n",
              "    </tr>\n",
              "    <tr>\n",
              "      <th>Meghana Foods</th>\n",
              "      <td>7238</td>\n",
              "    </tr>\n",
              "    <tr>\n",
              "      <th>Flechazo</th>\n",
              "      <td>7154</td>\n",
              "    </tr>\n",
              "  </tbody>\n",
              "</table>\n",
              "</div>"
            ],
            "text/plain": [
              "                             votes\n",
              "name                              \n",
              "Byg Brewski Brewing Company  16832\n",
              "Toit                         14956\n",
              "Truffles                     14726\n",
              "AB's - Absolute Barbecues    12121\n",
              "The Black Pearl              10550\n",
              "Big Pitcher                   9300\n",
              "Onesta                        9085\n",
              "Arbor Brewing Company         8419\n",
              "Empire Restaurant             8304\n",
              "Prost Brew Pub                7871\n",
              "Church Street Social          7584\n",
              "Hoot                          7330\n",
              "Barbeque Nation               7270\n",
              "Meghana Foods                 7238\n",
              "Flechazo                      7154"
            ]
          },
          "metadata": {
            "tags": []
          },
          "execution_count": 32
        }
      ]
    },
    {
      "cell_type": "markdown",
      "metadata": {
        "id": "03QRju091yh_"
      },
      "source": [
        "Above are the 15 restaurants that have got the highest number of user votes. The ratings for these restaurants are also very high as expected. More votes most probably leads to better rating."
      ]
    },
    {
      "cell_type": "markdown",
      "metadata": {
        "id": "xKMX4x7I3Jce"
      },
      "source": [
        "###Correlation between Number of cuisines with the rating"
      ]
    },
    {
      "cell_type": "code",
      "metadata": {
        "colab": {
          "base_uri": "https://localhost:8080/",
          "height": 590
        },
        "id": "OzJWzmUY2-ot",
        "outputId": "0bd95d01-6837-474a-af2e-4d873a0f583b"
      },
      "source": [
        "# Pie chart\r\n",
        "labels = zomato_real['listed_in(type)'].value_counts().index\r\n",
        "sizes = zomato_real['listed_in(type)'].value_counts().values\r\n",
        "# only \"explode\" the 2nd slice (i.e. 'Hogs')\r\n",
        "explode = (0.1, 0.1, 0.1, 0.1, 0.1, 0.1, 0.1)\r\n",
        "fig1, ax1 = plt.subplots(figsize = (8, 8))\r\n",
        "\r\n",
        "ax1.pie(sizes, labels = labels,\r\n",
        "        shadow = True, startangle = 90, explode = explode, rotatelabels = True)\r\n",
        "centre_circle = plt.Circle((0, 0), 0.70,fc = 'white')\r\n",
        "fig = plt.gcf()\r\n",
        "fig.gca().add_artist(centre_circle)\r\n",
        "\r\n",
        "# Equal aspect ratio ensures that pie is drawn as a circle\r\n",
        "ax1.axis('equal')  \r\n",
        "plt.tight_layout()\r\n",
        "plt.show()"
      ],
      "execution_count": 34,
      "outputs": [
        {
          "output_type": "display_data",
          "data": {
            "image/png": "[encoded data removed]",
            "text/plain": [
              "<Figure size 576x576 with 1 Axes>"
            ]
          },
          "metadata": {
            "tags": []
          }
        }
      ]
    },
    {
      "cell_type": "markdown",
      "metadata": {
        "id": "o-H6s1gHhTFq"
      },
      "source": [
        "###Text preprocessing\r\n",
        "\r\n",
        "1. Lower casing\r\n",
        "2. Removal of Punctuations\r\n",
        "3. Removal of Stopwords\r\n",
        "4. Removal of URLs\r\n",
        "5. Spelling correction"
      ]
    },
    {
      "cell_type": "code",
      "metadata": {
        "id": "x8q-rFhLhQvt"
      },
      "source": [
        "## Lower Casing\r\n",
        "zomato[\"reviews_list\"] = zomato[\"reviews_list\"].str.lower()"
      ],
      "execution_count": 16,
      "outputs": []
    },
    {
      "cell_type": "code",
      "metadata": {
        "id": "g2mmE7oJhYuG"
      },
      "source": [
        "## Removal of Puctuations\r\n",
        "import string\r\n",
        "PUNCT_TO_REMOVE = string.punctuation\r\n",
        "def remove_punctuation(text):\r\n",
        "    \"\"\"custom function to remove the punctuation\"\"\"\r\n",
        "    return text.translate(str.maketrans('', '', PUNCT_TO_REMOVE))\r\n",
        "\r\n",
        "zomato[\"reviews_list\"] = zomato[\"reviews_list\"].apply(lambda text: remove_punctuation(text))"
      ],
      "execution_count": 17,
      "outputs": []
    },
    {
      "cell_type": "code",
      "metadata": {
        "colab": {
          "base_uri": "https://localhost:8080/"
        },
        "id": "vc4ZRZ4xhllm",
        "outputId": "b6e165ea-3c40-476d-e69e-ba364baad1ef"
      },
      "source": [
        "## Removal of Stopwords\r\n",
        "from nltk.corpus import stopwords\r\n",
        "import nltk\r\n",
        "nltk.download('stopwords')\r\n",
        "STOPWORDS = set(stopwords.words('english'))\r\n",
        "def remove_stopwords(text):\r\n",
        "    \"\"\"custom function to remove the stopwords\"\"\"\r\n",
        "    return \" \".join([word for word in str(text).split() if word not in STOPWORDS])\r\n",
        "\r\n",
        "zomato[\"reviews_list\"] = zomato[\"reviews_list\"].apply(lambda text: remove_stopwords(text))"
      ],
      "execution_count": 20,
      "outputs": [
        {
          "output_type": "stream",
          "text": [
            "[nltk_data] Downloading package stopwords to /root/nltk_data...\n",
            "[nltk_data]   Unzipping corpora/stopwords.zip.\n"
          ],
          "name": "stdout"
        }
      ]
    },
    {
      "cell_type": "code",
      "metadata": {
        "colab": {
          "base_uri": "https://localhost:8080/",
          "height": 202
        },
        "id": "KjX41cP4hoDv",
        "outputId": "70b0f86b-e9e0-4530-e9cb-966ea0e77f17"
      },
      "source": [
        "## Removal of URLS\r\n",
        "def remove_urls(text):\r\n",
        "    url_pattern = re.compile(r'https?://\\S+|www\\.\\S+')\r\n",
        "    return url_pattern.sub(r'', text)\r\n",
        "\r\n",
        "zomato[\"reviews_list\"] = zomato[\"reviews_list\"].apply(lambda text: remove_urls(text))\r\n",
        "\r\n",
        "zomato[['reviews_list', 'cuisines']].sample(5)"
      ],
      "execution_count": 21,
      "outputs": [
        {
          "output_type": "execute_result",
          "data": {
            "text/html": [
              "<div>\n",
              "<style scoped>\n",
              "    .dataframe tbody tr th:only-of-type {\n",
              "        vertical-align: middle;\n",
              "    }\n",
              "\n",
              "    .dataframe tbody tr th {\n",
              "        vertical-align: top;\n",
              "    }\n",
              "\n",
              "    .dataframe thead th {\n",
              "        text-align: right;\n",
              "    }\n",
              "</style>\n",
              "<table border=\"1\" class=\"dataframe\">\n",
              "  <thead>\n",
              "    <tr style=\"text-align: right;\">\n",
              "      <th></th>\n",
              "      <th>reviews_list</th>\n",
              "      <th>cuisines</th>\n",
              "    </tr>\n",
              "  </thead>\n",
              "  <tbody>\n",
              "    <tr>\n",
              "      <th>2988</th>\n",
              "      <td>rated 40 ratedn havent visited place ordered f...</td>\n",
              "      <td>Chinese, Seafood, Biryani</td>\n",
              "    </tr>\n",
              "    <tr>\n",
              "      <th>3521</th>\n",
              "      <td>rated 40 ratedn love guntur nellore biryani lo...</td>\n",
              "      <td>Andhra, Biryani, North Indian</td>\n",
              "    </tr>\n",
              "    <tr>\n",
              "      <th>24872</th>\n",
              "      <td>rated 30 ratedn place good terms ambience sett...</td>\n",
              "      <td>Finger Food</td>\n",
              "    </tr>\n",
              "    <tr>\n",
              "      <th>9666</th>\n",
              "      <td>rated 10 ratedn bad food expected food menu wa...</td>\n",
              "      <td>South Indian, North Indian, Chinese, Street Fo...</td>\n",
              "    </tr>\n",
              "    <tr>\n",
              "      <th>10091</th>\n",
              "      <td>rated 30 ratedn cute cosy little place wooden ...</td>\n",
              "      <td>BBQ, Continental, Burger, Wraps, Pizza, Cafe</td>\n",
              "    </tr>\n",
              "  </tbody>\n",
              "</table>\n",
              "</div>"
            ],
            "text/plain": [
              "                                            reviews_list                                           cuisines\n",
              "2988   rated 40 ratedn havent visited place ordered f...                          Chinese, Seafood, Biryani\n",
              "3521   rated 40 ratedn love guntur nellore biryani lo...                      Andhra, Biryani, North Indian\n",
              "24872  rated 30 ratedn place good terms ambience sett...                                        Finger Food\n",
              "9666   rated 10 ratedn bad food expected food menu wa...  South Indian, North Indian, Chinese, Street Fo...\n",
              "10091  rated 30 ratedn cute cosy little place wooden ...       BBQ, Continental, Burger, Wraps, Pizza, Cafe"
            ]
          },
          "metadata": {
            "tags": []
          },
          "execution_count": 21
        }
      ]
    },
    {
      "cell_type": "code",
      "metadata": {
        "id": "LF4wyGKshqzG"
      },
      "source": [
        "# RESTAURANT NAMES:\r\n",
        "restaurant_names = list(zomato['name'].unique())\r\n",
        "def get_top_words(column, top_nu_of_words, nu_of_word):\r\n",
        "    vec = CountVectorizer(ngram_range= nu_of_word, stop_words='english')\r\n",
        "    bag_of_words = vec.fit_transform(column)\r\n",
        "    sum_words = bag_of_words.sum(axis=0)\r\n",
        "    words_freq = [(word, sum_words[0, idx]) for word, idx in vec.vocabulary_.items()]\r\n",
        "    words_freq =sorted(words_freq, key = lambda x: x[1], reverse=True)\r\n",
        "    return words_freq[:top_nu_of_words]\r\n",
        "    \r\n",
        "zomato=zomato.drop(['address','rest_type', 'type', 'menu_item', 'votes'],axis=1)\r\n",
        "import pandas\r\n",
        "\r\n",
        "# Randomly sample 60% of your dataframe\r\n",
        "df_percent = zomato.sample(frac=0.5)"
      ],
      "execution_count": 22,
      "outputs": []
    },
    {
      "cell_type": "markdown",
      "metadata": {
        "id": "Is5iBbNuiUce"
      },
      "source": [
        "###TF-IDF Vectorization\r\n",
        "TF-IDF (Term Frequency-Inverse Document Frequency) vectors for each document. This will give you a matrix where each column represents a word in the general vocabulary (all words that appear in at least one document) and each column represents a restaurant, as before.\r\n",
        "\r\n",
        "TF-IDF is the statistical method of assessing the meaning of a word in a given document."
      ]
    },
    {
      "cell_type": "code",
      "metadata": {
        "id": "xartNJMsij63"
      },
      "source": [
        "df_percent.set_index('name', inplace=True)\r\n",
        "indices = pd.Series(df_percent.index)\r\n",
        "\r\n",
        "# Creating tf-idf matrix\r\n",
        "tfidf = TfidfVectorizer(analyzer='word', ngram_range=(1, 2), min_df=0, stop_words='english')\r\n",
        "tfidf_matrix = tfidf.fit_transform(df_percent['reviews_list'])\r\n",
        "\r\n",
        "cosine_similarities = linear_kernel(tfidf_matrix, tfidf_matrix)"
      ],
      "execution_count": 23,
      "outputs": []
    },
    {
      "cell_type": "code",
      "metadata": {
        "colab": {
          "base_uri": "https://localhost:8080/",
          "height": 250
        },
        "id": "HVJBUm8Oiox2",
        "outputId": "b6d1c546-ecd8-4c39-e007-87626b8a4412"
      },
      "source": [
        "def recommend(name, cosine_similarities = cosine_similarities):\r\n",
        "    \r\n",
        "    # Create a list to put top restaurants\r\n",
        "    recommend_restaurant = []\r\n",
        "    \r\n",
        "    # Find the index of the hotel entered\r\n",
        "    idx = indices[indices == name].index[0]\r\n",
        "    \r\n",
        "    # Find the restaurants with a similar cosine-sim value and order them from bigges number\r\n",
        "    score_series = pd.Series(cosine_similarities[idx]).sort_values(ascending=False)\r\n",
        "    \r\n",
        "    # Extract top 30 restaurant indexes with a similar cosine-sim value\r\n",
        "    top30_indexes = list(score_series.iloc[0:31].index)\r\n",
        "    \r\n",
        "    # Names of the top 30 restaurants\r\n",
        "    for each in top30_indexes:\r\n",
        "        recommend_restaurant.append(list(df_percent.index)[each])\r\n",
        "    \r\n",
        "    # Creating the new data set to show similar restaurants\r\n",
        "    df_new = pd.DataFrame(columns=['cuisines', 'Mean Rating', 'cost'])\r\n",
        "    \r\n",
        "    # Create the top 30 similar restaurants with some of their columns\r\n",
        "    for each in recommend_restaurant:\r\n",
        "        df_new = df_new.append(pd.DataFrame(df_percent[['cuisines','Mean Rating', 'cost']][df_percent.index == each].sample()))\r\n",
        "    \r\n",
        "    # Drop the same named restaurants and sort only the top 10 by the highest rating\r\n",
        "    df_new = df_new.drop_duplicates(subset=['cuisines','Mean Rating', 'cost'], keep=False)\r\n",
        "    df_new = df_new.sort_values(by='Mean Rating', ascending=False).head(10)\r\n",
        "    \r\n",
        "    print('TOP %s RESTAURANTS LIKE %s WITH SIMILAR REVIEWS: ' % (str(len(df_new)), name))\r\n",
        "    \r\n",
        "    return df_new\r\n",
        "recommend('Pai Vihar')"
      ],
      "execution_count": 24,
      "outputs": [
        {
          "output_type": "stream",
          "text": [
            "TOP 6 RESTAURANTS LIKE Pai Vihar WITH SIMILAR REVIEWS: \n"
          ],
          "name": "stdout"
        },
        {
          "output_type": "execute_result",
          "data": {
            "text/html": [
              "<div>\n",
              "<style scoped>\n",
              "    .dataframe tbody tr th:only-of-type {\n",
              "        vertical-align: middle;\n",
              "    }\n",
              "\n",
              "    .dataframe tbody tr th {\n",
              "        vertical-align: top;\n",
              "    }\n",
              "\n",
              "    .dataframe thead th {\n",
              "        text-align: right;\n",
              "    }\n",
              "</style>\n",
              "<table border=\"1\" class=\"dataframe\">\n",
              "  <thead>\n",
              "    <tr style=\"text-align: right;\">\n",
              "      <th></th>\n",
              "      <th>cuisines</th>\n",
              "      <th>Mean Rating</th>\n",
              "      <th>cost</th>\n",
              "    </tr>\n",
              "  </thead>\n",
              "  <tbody>\n",
              "    <tr>\n",
              "      <th>Samosa Singh</th>\n",
              "      <td>North Indian, Mithai</td>\n",
              "      <td>3.60</td>\n",
              "      <td>250.0</td>\n",
              "    </tr>\n",
              "    <tr>\n",
              "      <th>Samosa Singh</th>\n",
              "      <td>Street Food, Fast Food, Rolls, Desserts</td>\n",
              "      <td>3.60</td>\n",
              "      <td>200.0</td>\n",
              "    </tr>\n",
              "    <tr>\n",
              "      <th>Juice Junction Food Court</th>\n",
              "      <td>Beverages, Juices, Fast Food</td>\n",
              "      <td>3.50</td>\n",
              "      <td>250.0</td>\n",
              "    </tr>\n",
              "    <tr>\n",
              "      <th>Prasiddhi Food Corner</th>\n",
              "      <td>Fast Food, North Indian, South Indian</td>\n",
              "      <td>3.45</td>\n",
              "      <td>200.0</td>\n",
              "    </tr>\n",
              "    <tr>\n",
              "      <th>Kidambi'S Kitchen</th>\n",
              "      <td>South Indian</td>\n",
              "      <td>3.17</td>\n",
              "      <td>300.0</td>\n",
              "    </tr>\n",
              "    <tr>\n",
              "      <th>Udupi Grand</th>\n",
              "      <td>South Indian, North Indian, Chinese</td>\n",
              "      <td>2.91</td>\n",
              "      <td>300.0</td>\n",
              "    </tr>\n",
              "  </tbody>\n",
              "</table>\n",
              "</div>"
            ],
            "text/plain": [
              "                                                          cuisines  ...   cost\n",
              "Samosa Singh                                  North Indian, Mithai  ...  250.0\n",
              "Samosa Singh               Street Food, Fast Food, Rolls, Desserts  ...  200.0\n",
              "Juice Junction Food Court             Beverages, Juices, Fast Food  ...  250.0\n",
              "Prasiddhi Food Corner        Fast Food, North Indian, South Indian  ...  200.0\n",
              "Kidambi'S Kitchen                                     South Indian  ...  300.0\n",
              "Udupi Grand                    South Indian, North Indian, Chinese  ...  300.0\n",
              "\n",
              "[6 rows x 3 columns]"
            ]
          },
          "metadata": {
            "tags": []
          },
          "execution_count": 24
        }
      ]
    },
    {
      "cell_type": "code",
      "metadata": {
        "id": "V0Ytr8kE-c_n"
      },
      "source": [
        ""
      ],
      "execution_count": null,
      "outputs": []
    }
  ]
}